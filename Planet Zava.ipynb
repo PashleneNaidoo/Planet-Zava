{
 "cells": [
  {
   "cell_type": "code",
   "execution_count": 32,
   "id": "0b21f8e8",
   "metadata": {},
   "outputs": [
    {
     "name": "stdout",
     "output_type": "stream",
     "text": [
      "Initial velocity (v0): 80.28793334960938\n"
     ]
    },
    {
     "data": {
      "image/png": "[encoded data removed]",
      "text/plain": [
       "<Figure size 432x288 with 1 Axes>"
      ]
     },
     "metadata": {
      "needs_background": "light"
     },
     "output_type": "display_data"
    }
   ],
   "source": [
    "import numpy as np\n",
    "import matplotlib.pyplot as plt\n",
    "\n",
    "def shoot(v0):\n",
    "    # Simulation parameters\n",
    "    dt = 0.01  # Time step\n",
    "    bounces = 3  # Number of bounces\n",
    "    target_distance = 1750  # Target distance\n",
    "\n",
    "    # Constants\n",
    "    rho0 = 2.5  # Density of the fluid (kg/m^3)\n",
    "    g = 9.8  # Acceleration due to gravity (m/s^2)\n",
    "    m = 12  # Mass of the sphere (kg)\n",
    "    V0 = 1.5  # Initial volume of the sphere (m^3)\n",
    "    theta = np.radians(60)  # Angle of launch (converted to radians)\n",
    "    gamma = 5/3  # Adiabatic exponent\n",
    "\n",
    "    # Derived variables\n",
    "    p_fluid = rho0 * g * 1000  # Pressure at depth h = 1000 m\n",
    "    p_sphere = p_fluid  # Pressure inside the sphere\n",
    "\n",
    "    # Initial conditions\n",
    "    x0 = 0  # Initial position (x-coordinate)\n",
    "    y0 = 0  # Initial position (y-coordinate)\n",
    "    vx0 = v0 * np.cos(theta)  # Initial velocity (x-component)\n",
    "    vy0 = v0 * np.sin(theta)  # Initial velocity (y-component)\n",
    "\n",
    "    # Arrays to store the trajectory\n",
    "    x_array = [x0]\n",
    "    y_array = [y0]\n",
    "\n",
    "    # Leapfrog method\n",
    "    x = x0\n",
    "    y = y0\n",
    "    vx = vx0\n",
    "    vy = vy0\n",
    "    t = 0\n",
    "    bounce_count = 0\n",
    "\n",
    "    while bounce_count < bounces:\n",
    "        # Update position\n",
    "        x += vx * dt\n",
    "        y += vy * dt\n",
    "\n",
    "        # Update velocity\n",
    "        ax = 0  # No horizontal acceleration\n",
    "        ay = -g  # Vertical acceleration due to gravity\n",
    "        vx += ax * dt\n",
    "        vy += ay * dt\n",
    "\n",
    "        # Check if the sphere has reached the floor\n",
    "        if y <= 0:\n",
    "            # Update position and velocity\n",
    "            y = 0\n",
    "            vy = -vy/np.sqrt(2)  # Vertical velocity decreases by sqrt(2)\n",
    "            vx =vx/np.sqrt(2)  # Horizontal velocity decreases by sqrt(2)\n",
    "\n",
    "            # Count the bounce\n",
    "            bounce_count += 1\n",
    "\n",
    "        # Store the trajectory\n",
    "        x_array.append(x)\n",
    "        y_array.append(y)\n",
    "\n",
    "        # Check if the sphere has reached the target distance\n",
    "        if x >= target_distance:\n",
    "            break\n",
    "\n",
    "        # Update time\n",
    "        t += dt\n",
    "\n",
    "    return x, y_array[-1] ,x_array, y_array # Return the final x-coordinate and final y-coordinate\n",
    "\n",
    "def bisection():\n",
    "    # Bisection parameters\n",
    "    v0_lower = 50  # Lower bound of initial velocity\n",
    "    v0_upper = 100  # Upper bound of initial velocity\n",
    "    tolerance = 0.001  # Tolerance for convergence\n",
    "\n",
    "    while v0_upper - v0_lower > tolerance:\n",
    "        v0_mid = (v0_lower + v0_upper) / 2\n",
    "\n",
    "        x_mid, y_final,xa1,ya1 = shoot(v0_mid)\n",
    "\n",
    "        if x_mid > 1000:\n",
    "            v0_upper = v0_mid\n",
    "        else:\n",
    "            v0_lower = v0_mid\n",
    "\n",
    "    return v0_mid\n",
    "\n",
    "# Find the initial velocity using Bisection\n",
    "v0 = bisection()\n",
    "print(\"Initial velocity (v0):\", v0)\n",
    "\n",
    "# Simulate the trajectory with the found initial velocity\n",
    "x_final, y_final,xa,ya = shoot(v0)\n",
    "\n",
    "# Plot the trajectory\n",
    "plt.plot(xa, ya)\n",
    "plt.xlabel(\"Horizontal distance (m)\")\n",
    "plt.ylabel(\"Vertical distance (m)\")\n",
    "plt.title(\"Projectile Trajectory\")\n",
    "plt.grid(True)\n",
    "plt.show()\n",
    "\n"
   ]
  },
  {
   "cell_type": "code",
   "execution_count": null,
   "id": "c9db3e38",
   "metadata": {},
   "outputs": [],
   "source": []
  },
  {
   "cell_type": "code",
   "execution_count": null,
   "id": "ba73db0a",
   "metadata": {},
   "outputs": [],
   "source": []
  }
 ],
 "metadata": {
  "kernelspec": {
   "display_name": "Python 3 (ipykernel)",
   "language": "python",
   "name": "python3"
  },
  "language_info": {
   "codemirror_mode": {
    "name": "ipython",
    "version": 3
   },
   "file_extension": ".py",
   "mimetype": "text/x-python",
   "name": "python",
   "nbconvert_exporter": "python",
   "pygments_lexer": "ipython3",
   "version": "3.9.7"
  }
 },
 "nbformat": 4,
 "nbformat_minor": 5
}
